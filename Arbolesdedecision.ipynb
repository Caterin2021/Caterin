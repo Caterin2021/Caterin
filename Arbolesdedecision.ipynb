{
 "cells": [
  {
   "cell_type": "code",
   "execution_count": 1,
   "id": "856466d2-bd78-4f59-aa5d-c479481d9a76",
   "metadata": {
    "tags": []
   },
   "outputs": [],
   "source": [
    "import pandas as pd\n",
    "import numpy as np\n",
    "import matplotlib.pyplot as plt\n",
    "from sklearn.model_selection import train_test_split\n",
    "from sklearn import metrics\n",
    "from sklearn.tree import DecisionTreeClassifier, plot_tree\n",
    "from sklearn.metrics import accuracy_score"
   ]
  },
  {
   "cell_type": "code",
   "execution_count": 2,
   "id": "2cbd5c90-26a6-4a16-958c-67f7d7814607",
   "metadata": {
    "tags": []
   },
   "outputs": [],
   "source": [
    "columnas = [\n",
    "    \"date\",\n",
    "    \"area_type\",\n",
    "    \"area_name\",\n",
    "    \"daily_cases\",\n",
    "    \"cum_cases\",\n",
    "    \"new_deaths_28days\",\n",
    "    \"cum_deaths_28days\"\n",
    "]\n",
    "df = pd.read_csv('D:\\Wales_covid.csv', index_col=False, header=0)"
   ]
  },
  {
   "cell_type": "code",
   "execution_count": 3,
   "id": "2803658d-9978-445e-affa-3987d03a4c4d",
   "metadata": {
    "tags": []
   },
   "outputs": [
    {
     "data": {
      "text/html": [
       "<div>\n",
       "<style scoped>\n",
       "    .dataframe tbody tr th:only-of-type {\n",
       "        vertical-align: middle;\n",
       "    }\n",
       "\n",
       "    .dataframe tbody tr th {\n",
       "        vertical-align: top;\n",
       "    }\n",
       "\n",
       "    .dataframe thead th {\n",
       "        text-align: right;\n",
       "    }\n",
       "</style>\n",
       "<table border=\"1\" class=\"dataframe\">\n",
       "  <thead>\n",
       "    <tr style=\"text-align: right;\">\n",
       "      <th></th>\n",
       "      <th>date</th>\n",
       "      <th>area_type</th>\n",
       "      <th>area_name</th>\n",
       "      <th>daily_cases</th>\n",
       "      <th>cum_cases</th>\n",
       "      <th>new_deaths_28days</th>\n",
       "      <th>cum_deaths_28days</th>\n",
       "      <th>new_deaths_60days</th>\n",
       "      <th>cum_deaths_60days</th>\n",
       "      <th>new_first_episode</th>\n",
       "      <th>...</th>\n",
       "      <th>new_third_dose</th>\n",
       "      <th>cum_third_dose</th>\n",
       "      <th>new_admissions</th>\n",
       "      <th>cum_admissions</th>\n",
       "      <th>hospital_cases</th>\n",
       "      <th>ventilator_beds</th>\n",
       "      <th>trans_rate_min</th>\n",
       "      <th>trans_rate_max</th>\n",
       "      <th>trans_growth_min</th>\n",
       "      <th>trans_growth_max</th>\n",
       "    </tr>\n",
       "  </thead>\n",
       "  <tbody>\n",
       "    <tr>\n",
       "      <th>0</th>\n",
       "      <td>2023-09-14</td>\n",
       "      <td>nation</td>\n",
       "      <td>Wales</td>\n",
       "      <td>NaN</td>\n",
       "      <td>NaN</td>\n",
       "      <td>NaN</td>\n",
       "      <td>NaN</td>\n",
       "      <td>NaN</td>\n",
       "      <td>NaN</td>\n",
       "      <td>258</td>\n",
       "      <td>...</td>\n",
       "      <td>NaN</td>\n",
       "      <td>NaN</td>\n",
       "      <td>NaN</td>\n",
       "      <td>NaN</td>\n",
       "      <td>NaN</td>\n",
       "      <td>NaN</td>\n",
       "      <td>NaN</td>\n",
       "      <td>NaN</td>\n",
       "      <td>NaN</td>\n",
       "      <td>NaN</td>\n",
       "    </tr>\n",
       "    <tr>\n",
       "      <th>1</th>\n",
       "      <td>2023-09-13</td>\n",
       "      <td>nation</td>\n",
       "      <td>Wales</td>\n",
       "      <td>2.0</td>\n",
       "      <td>904513.0</td>\n",
       "      <td>0.0</td>\n",
       "      <td>8544.0</td>\n",
       "      <td>NaN</td>\n",
       "      <td>NaN</td>\n",
       "      <td>1</td>\n",
       "      <td>...</td>\n",
       "      <td>NaN</td>\n",
       "      <td>NaN</td>\n",
       "      <td>NaN</td>\n",
       "      <td>NaN</td>\n",
       "      <td>NaN</td>\n",
       "      <td>NaN</td>\n",
       "      <td>NaN</td>\n",
       "      <td>NaN</td>\n",
       "      <td>NaN</td>\n",
       "      <td>NaN</td>\n",
       "    </tr>\n",
       "    <tr>\n",
       "      <th>2</th>\n",
       "      <td>2023-09-12</td>\n",
       "      <td>nation</td>\n",
       "      <td>Wales</td>\n",
       "      <td>40.0</td>\n",
       "      <td>904511.0</td>\n",
       "      <td>0.0</td>\n",
       "      <td>8544.0</td>\n",
       "      <td>NaN</td>\n",
       "      <td>NaN</td>\n",
       "      <td>28</td>\n",
       "      <td>...</td>\n",
       "      <td>NaN</td>\n",
       "      <td>NaN</td>\n",
       "      <td>NaN</td>\n",
       "      <td>NaN</td>\n",
       "      <td>NaN</td>\n",
       "      <td>NaN</td>\n",
       "      <td>NaN</td>\n",
       "      <td>NaN</td>\n",
       "      <td>NaN</td>\n",
       "      <td>NaN</td>\n",
       "    </tr>\n",
       "    <tr>\n",
       "      <th>3</th>\n",
       "      <td>2023-09-11</td>\n",
       "      <td>nation</td>\n",
       "      <td>Wales</td>\n",
       "      <td>38.0</td>\n",
       "      <td>904471.0</td>\n",
       "      <td>1.0</td>\n",
       "      <td>8544.0</td>\n",
       "      <td>NaN</td>\n",
       "      <td>NaN</td>\n",
       "      <td>31</td>\n",
       "      <td>...</td>\n",
       "      <td>NaN</td>\n",
       "      <td>NaN</td>\n",
       "      <td>NaN</td>\n",
       "      <td>NaN</td>\n",
       "      <td>NaN</td>\n",
       "      <td>NaN</td>\n",
       "      <td>NaN</td>\n",
       "      <td>NaN</td>\n",
       "      <td>NaN</td>\n",
       "      <td>NaN</td>\n",
       "    </tr>\n",
       "    <tr>\n",
       "      <th>4</th>\n",
       "      <td>2023-09-10</td>\n",
       "      <td>nation</td>\n",
       "      <td>Wales</td>\n",
       "      <td>34.0</td>\n",
       "      <td>904433.0</td>\n",
       "      <td>0.0</td>\n",
       "      <td>8543.0</td>\n",
       "      <td>NaN</td>\n",
       "      <td>NaN</td>\n",
       "      <td>31</td>\n",
       "      <td>...</td>\n",
       "      <td>NaN</td>\n",
       "      <td>NaN</td>\n",
       "      <td>NaN</td>\n",
       "      <td>NaN</td>\n",
       "      <td>NaN</td>\n",
       "      <td>NaN</td>\n",
       "      <td>NaN</td>\n",
       "      <td>NaN</td>\n",
       "      <td>NaN</td>\n",
       "      <td>NaN</td>\n",
       "    </tr>\n",
       "  </tbody>\n",
       "</table>\n",
       "<p>5 rows × 35 columns</p>\n",
       "</div>"
      ],
      "text/plain": [
       "         date area_type area_name  daily_cases  cum_cases  new_deaths_28days  \\\n",
       "0  2023-09-14    nation     Wales          NaN        NaN                NaN   \n",
       "1  2023-09-13    nation     Wales          2.0   904513.0                0.0   \n",
       "2  2023-09-12    nation     Wales         40.0   904511.0                0.0   \n",
       "3  2023-09-11    nation     Wales         38.0   904471.0                1.0   \n",
       "4  2023-09-10    nation     Wales         34.0   904433.0                0.0   \n",
       "\n",
       "   cum_deaths_28days  new_deaths_60days  cum_deaths_60days  new_first_episode  \\\n",
       "0                NaN                NaN                NaN                258   \n",
       "1             8544.0                NaN                NaN                  1   \n",
       "2             8544.0                NaN                NaN                 28   \n",
       "3             8544.0                NaN                NaN                 31   \n",
       "4             8543.0                NaN                NaN                 31   \n",
       "\n",
       "   ...  new_third_dose  cum_third_dose  new_admissions  cum_admissions  \\\n",
       "0  ...             NaN             NaN             NaN             NaN   \n",
       "1  ...             NaN             NaN             NaN             NaN   \n",
       "2  ...             NaN             NaN             NaN             NaN   \n",
       "3  ...             NaN             NaN             NaN             NaN   \n",
       "4  ...             NaN             NaN             NaN             NaN   \n",
       "\n",
       "   hospital_cases  ventilator_beds  trans_rate_min  trans_rate_max  \\\n",
       "0             NaN              NaN             NaN             NaN   \n",
       "1             NaN              NaN             NaN             NaN   \n",
       "2             NaN              NaN             NaN             NaN   \n",
       "3             NaN              NaN             NaN             NaN   \n",
       "4             NaN              NaN             NaN             NaN   \n",
       "\n",
       "   trans_growth_min  trans_growth_max  \n",
       "0               NaN               NaN  \n",
       "1               NaN               NaN  \n",
       "2               NaN               NaN  \n",
       "3               NaN               NaN  \n",
       "4               NaN               NaN  \n",
       "\n",
       "[5 rows x 35 columns]"
      ]
     },
     "execution_count": 3,
     "metadata": {},
     "output_type": "execute_result"
    }
   ],
   "source": [
    "df.head()"
   ]
  },
  {
   "cell_type": "code",
   "execution_count": 4,
   "id": "0444bba1-5b83-4bb4-b55c-b21c4d93aaad",
   "metadata": {
    "tags": []
   },
   "outputs": [
    {
     "data": {
      "text/plain": [
       "(array([   0.,    0.,    0.,    0.,    0., 1296.,    0.,    0.,    0.,\n",
       "           0.]),\n",
       " array([-0.5, -0.4, -0.3, -0.2, -0.1,  0. ,  0.1,  0.2,  0.3,  0.4,  0.5]),\n",
       " <BarContainer object of 10 artists>)"
      ]
     },
     "execution_count": 4,
     "metadata": {},
     "output_type": "execute_result"
    },
    {
     "data": {
      "image/png": "[encoded data removed]",
      "text/plain": [
       "<Figure size 640x480 with 1 Axes>"
      ]
     },
     "metadata": {},
     "output_type": "display_data"
    }
   ],
   "source": [
    "plt.hist(df.area_type)"
   ]
  },
  {
   "cell_type": "code",
   "execution_count": 13,
   "id": "087d711e-b11f-40bc-b7f6-9420c94fa6c6",
   "metadata": {
    "tags": []
   },
   "outputs": [],
   "source": [
    "predictors_col = [\"cum_first_episode\", \"new_reinfections\",\"cum_reinfections\", \"new_virus_test\", \"cum_deaths_28days\"]\n",
    "target_col = ['area_name']"
   ]
  },
  {
   "cell_type": "code",
   "execution_count": 14,
   "id": "7edd1ae9-069f-4470-b5aa-1591a4663737",
   "metadata": {
    "tags": []
   },
   "outputs": [],
   "source": [
    "predictors = df[predictors_col]\n",
    "target = df[target_col]\n",
    "\n",
    "X_train, X_test, y_train, y_test = train_test_split(predictors, target, test_size=0.25, random_state=11)"
   ]
  },
  {
   "cell_type": "code",
   "execution_count": 15,
   "id": "7ecf843c-4c19-4b73-8708-b74b441e983c",
   "metadata": {
    "tags": []
   },
   "outputs": [],
   "source": [
    "tree = DecisionTreeClassifier()"
   ]
  },
  {
   "cell_type": "code",
   "execution_count": 16,
   "id": "2662cb0f-6f0d-453e-983f-d7583550b840",
   "metadata": {
    "tags": []
   },
   "outputs": [],
   "source": [
    "arbol = tree.fit(X_train, y_train)"
   ]
  },
  {
   "cell_type": "code",
   "execution_count": 17,
   "id": "eb26a3ce-5f66-40bd-8fa1-6aa9ddf717a6",
   "metadata": {
    "tags": []
   },
   "outputs": [
    {
     "data": {
      "text/plain": [
       "[Text(0.5, 0.5, 'gini = 0.0\\nsamples = 972\\nvalue = 972.0')]"
      ]
     },
     "execution_count": 17,
     "metadata": {},
     "output_type": "execute_result"
    },
    {
     "data": {
      "image/png": "[encoded data removed]",
      "text/plain": [
       "<Figure size 640x480 with 1 Axes>"
      ]
     },
     "metadata": {},
     "output_type": "display_data"
    }
   ],
   "source": [
    "plot_tree(arbol)"
   ]
  },
  {
   "cell_type": "code",
   "execution_count": 19,
   "id": "c182f575-b0af-43ef-bcc6-f0a7f404f0e5",
   "metadata": {
    "tags": []
   },
   "outputs": [],
   "source": [
    "predicciones = arbol.predict(X_test)"
   ]
  },
  {
   "cell_type": "code",
   "execution_count": 20,
   "id": "762a7afc-a144-4d52-a8f9-dc0423fa1d23",
   "metadata": {
    "tags": []
   },
   "outputs": [
    {
     "data": {
      "text/plain": [
       "1.0"
      ]
     },
     "execution_count": 20,
     "metadata": {},
     "output_type": "execute_result"
    }
   ],
   "source": [
    "accuracy = accuracy_score(y_test, predicciones)\n",
    "accuracy"
   ]
  },
  {
   "cell_type": "code",
   "execution_count": null,
   "id": "d412a826-bf12-4481-a54f-b2f15b704702",
   "metadata": {},
   "outputs": [],
   "source": []
  }
 ],
 "metadata": {
  "kernelspec": {
   "display_name": "Python 3 (ipykernel)",
   "language": "python",
   "name": "python3"
  },
  "language_info": {
   "codemirror_mode": {
    "name": "ipython",
    "version": 3
   },
   "file_extension": ".py",
   "mimetype": "text/x-python",
   "name": "python",
   "nbconvert_exporter": "python",
   "pygments_lexer": "ipython3",
   "version": "3.11.4"
  }
 },
 "nbformat": 4,
 "nbformat_minor": 5
}
